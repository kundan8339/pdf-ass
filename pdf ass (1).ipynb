{
 "cells": [
  {
   "cell_type": "code",
   "execution_count": null,
   "id": "73ba8c5b-209d-4983-8a98-f16d89f01a55",
   "metadata": {},
   "outputs": [],
   "source": [
    "Q1. What is the Probability density function?"
   ]
  },
  {
   "cell_type": "markdown",
   "id": "3a0bce3d-f04b-48de-9422-801e16198bea",
   "metadata": {},
   "source": [
    "Pdf is a fundamental concept in probility and statistics,describing the likehood of a continuous random variable taking on a particular value. "
   ]
  },
  {
   "cell_type": "code",
   "execution_count": null,
   "id": "a235d245-a951-4f58-be68-c0cc25db718c",
   "metadata": {},
   "outputs": [],
   "source": [
    "\n",
    "Q2. What are the types of Probability distribution?"
   ]
  },
  {
   "cell_type": "markdown",
   "id": "e4d84e3f-613a-42c5-a1d6-7bff7ecef0ec",
   "metadata": {},
   "source": [
    "there are two main categorises:Discrete and Continuous probability distribution."
   ]
  },
  {
   "cell_type": "code",
   "execution_count": null,
   "id": "6f7a9804-a2ed-4f0e-9b6c-666bd5dbd596",
   "metadata": {},
   "outputs": [],
   "source": [
    "Q3. Write a Python function to calculate the probability density function of a normal distribution with\n",
    "given mean and standard deviation at a given point."
   ]
  },
  {
   "cell_type": "code",
   "execution_count": 1,
   "id": "0c1c73a7-06d9-4a98-addf-9dc3db9e18c3",
   "metadata": {},
   "outputs": [],
   "source": [
    "import math"
   ]
  },
  {
   "cell_type": "code",
   "execution_count": 3,
   "id": "30383be7-3a9c-4f32-9f97-cfb7c6847e17",
   "metadata": {},
   "outputs": [
    {
     "name": "stdout",
     "output_type": "stream",
     "text": [
      "The PDF value at x=1.0 is 0.241971\n"
     ]
    }
   ],
   "source": [
    "def normal_pdf(x, mean, std_dev):\n",
    "    \"\"\"\n",
    "    \n",
    "    Calculate the probability density function of a normal distribution.\n",
    "    :param x:The point at which the PDF is evaluated\n",
    "    :param mean: The mean of the normal distribution\n",
    "    :param std_dev: The standard deviation of the normal distribution\n",
    "    :return: The value of the PDF at point x\n",
    "    \"\"\"\n",
    "    exponent = -((x - mean) ** 2) / (2*(std_dev **2))\n",
    "    coefficient = 1/(std_dev * math.sqrt(2 * math.pi))\n",
    "    pdf_value = coefficient *math.exp(exponent)\n",
    "    return pdf_value\n",
    "# Example usage\n",
    "x_value = 1.0\n",
    "mean=0.0\n",
    "std_dev=1.0\n",
    "pdf=normal_pdf(x_value, mean, std_dev)\n",
    "print(f\"The PDF value at x={x_value} is {pdf:.6f}\")\n"
   ]
  },
  {
   "cell_type": "code",
   "execution_count": null,
   "id": "b58fde3f-c3ea-4d40-bb57-bece529c6d32",
   "metadata": {},
   "outputs": [],
   "source": [
    "Q4. What are the properties of Binomial distribution? Give two examples of events where binomial\n",
    "distribution can be applied."
   ]
  },
  {
   "cell_type": "markdown",
   "id": "e6aa45ce-a9ee-4805-9afb-10b487d2924e",
   "metadata": {},
   "source": [
    "properties of Binomial distribution\n",
    "1. Fixed number of trials(n)\n",
    "2. Two possible Outcomes:\n",
    "3. Constant Probability(P)\n",
    "4. Independence:\n",
    "5. Discrete Variable:\n",
    "6. Mean and Variance\n",
    "Example\n",
    "coin tossing\n",
    "Quality control in Manufaturing."
   ]
  },
  {
   "cell_type": "code",
   "execution_count": null,
   "id": "01301d5c-0e54-4fba-9285-508bd318e0bf",
   "metadata": {},
   "outputs": [],
   "source": [
    "Q5. Generate a random sample of size 1000 from a binomial distribution with probability of success 0.4\n",
    "and plot a histogram of the results using matplotlib."
   ]
  },
  {
   "cell_type": "code",
   "execution_count": 4,
   "id": "577ebbd6-86cd-4fcf-bf07-efa2a7ef871c",
   "metadata": {},
   "outputs": [],
   "source": [
    "import numpy as np\n",
    "import matplotlib.pyplot as plt"
   ]
  },
  {
   "cell_type": "code",
   "execution_count": 5,
   "id": "52d3cae4-1b83-403d-a39e-945bcdc70c21",
   "metadata": {},
   "outputs": [
    {
     "ename": "AttributeError",
     "evalue": "module 'matplotlib.pyplot' has no attribute 'xlable'",
     "output_type": "error",
     "traceback": [
      "\u001b[0;31m---------------------------------------------------------------------------\u001b[0m",
      "\u001b[0;31mAttributeError\u001b[0m                            Traceback (most recent call last)",
      "Cell \u001b[0;32mIn[5], line 9\u001b[0m\n\u001b[1;32m      7\u001b[0m plt\u001b[38;5;241m.\u001b[39mhist(binomial_sample, bins\u001b[38;5;241m=\u001b[39m\u001b[38;5;241m30\u001b[39m,color\u001b[38;5;241m=\u001b[39m\u001b[38;5;124m'\u001b[39m\u001b[38;5;124mskyblue\u001b[39m\u001b[38;5;124m'\u001b[39m,edgecolor\u001b[38;5;241m=\u001b[39m\u001b[38;5;124m'\u001b[39m\u001b[38;5;124mblack\u001b[39m\u001b[38;5;124m'\u001b[39m)\n\u001b[1;32m      8\u001b[0m plt\u001b[38;5;241m.\u001b[39mtitle(\u001b[38;5;124m'\u001b[39m\u001b[38;5;124mHistogram of Binomial Distribution Sample (n=1000, p=0.4)\u001b[39m\u001b[38;5;124m'\u001b[39m)\n\u001b[0;32m----> 9\u001b[0m \u001b[43mplt\u001b[49m\u001b[38;5;241;43m.\u001b[39;49m\u001b[43mxlable\u001b[49m(\u001b[38;5;124m'\u001b[39m\u001b[38;5;124mNumber of successes\u001b[39m\u001b[38;5;124m'\u001b[39m)\n\u001b[1;32m     10\u001b[0m plt\u001b[38;5;241m.\u001b[39mylable(\u001b[38;5;124m'\u001b[39m\u001b[38;5;124mFrequency\u001b[39m\u001b[38;5;124m'\u001b[39m)\n\u001b[1;32m     11\u001b[0m plt\u001b[38;5;241m.\u001b[39mgrid(\u001b[38;5;28;01mTrue\u001b[39;00m)\n",
      "\u001b[0;31mAttributeError\u001b[0m: module 'matplotlib.pyplot' has no attribute 'xlable'"
     ]
    },
    {
     "data": {
      "image/png": "[encoded data removed]",
      "text/plain": [
       "<Figure size 1000x600 with 1 Axes>"
      ]
     },
     "metadata": {},
     "output_type": "display_data"
    }
   ],
   "source": [
    "n=1000\n",
    "p=0.4\n",
    "sample_size = 1000\n",
    "binomial_sample = np.random.binomial(n, p, sample_size)\n",
    "\n",
    "plt.figure(figsize=(10,6))\n",
    "plt.hist(binomial_sample, bins=30,color='skyblue',edgecolor='black')\n",
    "plt.title('Histogram of Binomial Distribution Sample (n=1000, p=0.4)')\n",
    "plt.xlable('Number of successes')\n",
    "plt.ylable('Frequency')\n",
    "plt.grid(True)\n",
    "plt.show()"
   ]
  },
  {
   "cell_type": "code",
   "execution_count": null,
   "id": "be146116-27fe-4137-843d-8ccabd6d9e8b",
   "metadata": {},
   "outputs": [],
   "source": [
    "Q6. Write a Python function to calculate the cumulative distribution function of a Poisson distribution\n",
    "with given mean at a given point."
   ]
  },
  {
   "cell_type": "code",
   "execution_count": 6,
   "id": "7e2574a3-e3ff-4a26-9e20-0c09680328e8",
   "metadata": {},
   "outputs": [],
   "source": [
    "import math\n",
    "from scipy.special import gammaincc"
   ]
  },
  {
   "cell_type": "code",
   "execution_count": 1,
   "id": "15852661-0e24-4d7b-bbdb-fccb4bc74d3e",
   "metadata": {},
   "outputs": [
    {
     "ename": "NameError",
     "evalue": "name 'poisson_cdf' is not defined",
     "output_type": "error",
     "traceback": [
      "\u001b[0;31m---------------------------------------------------------------------------\u001b[0m",
      "\u001b[0;31mNameError\u001b[0m                                 Traceback (most recent call last)",
      "Cell \u001b[0;32mIn[1], line 19\u001b[0m\n\u001b[1;32m     17\u001b[0m mean\u001b[38;5;241m=\u001b[39m\u001b[38;5;241m3.5\u001b[39m\n\u001b[1;32m     18\u001b[0m x\u001b[38;5;241m=\u001b[39m\u001b[38;5;241m2\u001b[39m\n\u001b[0;32m---> 19\u001b[0m \u001b[38;5;28mprint\u001b[39m(\u001b[38;5;124mf\u001b[39m\u001b[38;5;124m\"\u001b[39m\u001b[38;5;124mThe CDF of poisson distribution with mean \u001b[39m\u001b[38;5;132;01m{\u001b[39;00mmean\u001b[38;5;132;01m}\u001b[39;00m\u001b[38;5;124m at point \u001b[39m\u001b[38;5;132;01m{\u001b[39;00mx\u001b[38;5;132;01m}\u001b[39;00m\u001b[38;5;124m is: \u001b[39m\u001b[38;5;132;01m{\u001b[39;00m\u001b[43mpoisson_cdf\u001b[49m(mean,x)\u001b[38;5;132;01m}\u001b[39;00m\u001b[38;5;124m\"\u001b[39m)   \n",
      "\u001b[0;31mNameError\u001b[0m: name 'poisson_cdf' is not defined"
     ]
    }
   ],
   "source": [
    "def possion_cdf(mean, x):\n",
    "    \"\"\"\n",
    "    Calculate the cumulative distribution function(CDF) for a poisson distribution.\n",
    "    \n",
    "    Parameters:\n",
    "    mean (float): The mean of the Poisson distribution.\n",
    "    x (int): The point at which to evaluate the CDF.\n",
    "    \n",
    "    \n",
    "    Returns:\n",
    "    float: The CDF value at x.\n",
    "    \"\"\"\n",
    "    if x<0:\n",
    "        return 0.0\n",
    "    return gammaincc(x +1,mean)\n",
    "\n",
    "mean=3.5\n",
    "x=2\n",
    "print(f\"The CDF of poisson distribution with mean {mean} at point {x} is: {poisson_cdf(mean,x)}\")   \n"
   ]
  },
  {
   "cell_type": "code",
   "execution_count": null,
   "id": "076006fa-a14b-48c0-b7cd-01b6e35e3093",
   "metadata": {},
   "outputs": [],
   "source": [
    "Q7. How Binomial distribution different from Poisson distribution?"
   ]
  },
  {
   "cell_type": "markdown",
   "id": "7d28db1f-7937-49d4-a4ba-b459a765ba3e",
   "metadata": {},
   "source": [
    "The Binominal and Poission distribution are both discrete probabilty distribution.\n",
    "Binomial distribution = it represents the number of successes in a fixed number of independent Bernoulli trials.\n",
    "Poission distribution = it respersent the number of events occurring in a fixed interval of time or space when these events happen with a know constant mean rate and independently of the time since the last event."
   ]
  },
  {
   "cell_type": "code",
   "execution_count": null,
   "id": "d4a7e73c-a8db-4d20-8767-60a1d196456e",
   "metadata": {},
   "outputs": [],
   "source": [
    "Q8. Generate a random sample of size 1000 from a Poisson distribution with mean 5 and calculate the\n",
    "sample mean and variance."
   ]
  },
  {
   "cell_type": "code",
   "execution_count": 2,
   "id": "8c36e617-5ed4-47cb-89ce-47d9dafb5096",
   "metadata": {},
   "outputs": [],
   "source": [
    "import numpy as np"
   ]
  },
  {
   "cell_type": "code",
   "execution_count": 3,
   "id": "afc18eeb-3b3e-4a46-9b2d-43715869fc66",
   "metadata": {},
   "outputs": [
    {
     "data": {
      "text/plain": [
       "(4.916, 5.120944000000001)"
      ]
     },
     "execution_count": 3,
     "metadata": {},
     "output_type": "execute_result"
    }
   ],
   "source": [
    "mean_poisson=5\n",
    "sample_size=1000\n",
    "sample=np.random.poisson(lam=mean_poisson, size=sample_size)\n",
    "sample_mean=np.mean(sample)\n",
    "sample_variance=np.var(sample)\n",
    "sample_mean, sample_variance"
   ]
  },
  {
   "cell_type": "markdown",
   "id": "d4a57074-8f62-406f-856d-7add3a1ab79c",
   "metadata": {},
   "source": [
    "Q9. How mean and variance are related in Binomial distribution and Poisson distribution?"
   ]
  },
  {
   "cell_type": "markdown",
   "id": "9561b868-f42d-461e-8cb6-0b2442c9a326",
   "metadata": {},
   "source": [
    "A Binomial distrubition is defined by two parameters the number of trials n and the probability of success p \n",
    "in each trial.\n",
    "A Poisson distrbution is characterized by a single parameter(lamda) which represents the average rate (or mean)of occurrence of an event within a fixed interval."
   ]
  },
  {
   "cell_type": "code",
   "execution_count": null,
   "id": "a028d832-7298-4e9d-8ade-bb74f4031072",
   "metadata": {},
   "outputs": [],
   "source": [
    "Q10. In normal distribution with respect to mean position, where does the least frequent data appear?"
   ]
  },
  {
   "cell_type": "markdown",
   "id": "53e89043-efa2-4710-bc95-88fd7683d383",
   "metadata": {},
   "source": [
    "In normal distrubition (also know as a Gaussian Distribution),the least frequent data appears in the tails of the distribution, farthest from the mean . the distruition is symme"
   ]
  },
  {
   "cell_type": "code",
   "execution_count": null,
   "id": "96ea1487-78b9-4f22-9f45-c9459ece5e16",
   "metadata": {},
   "outputs": [],
   "source": []
  },
  {
   "cell_type": "code",
   "execution_count": null,
   "id": "0e49b26e-cc33-4d3b-97e1-8e6ed8526d70",
   "metadata": {},
   "outputs": [],
   "source": []
  },
  {
   "cell_type": "code",
   "execution_count": null,
   "id": "7bc3e14d-83ae-4287-9a6f-dc5e20890553",
   "metadata": {},
   "outputs": [],
   "source": []
  },
  {
   "cell_type": "code",
   "execution_count": null,
   "id": "432733e9-4b48-4051-b932-ba8cdfaf9012",
   "metadata": {},
   "outputs": [],
   "source": []
  },
  {
   "cell_type": "code",
   "execution_count": null,
   "id": "bff7091b-7e27-4632-82a1-af761d34c831",
   "metadata": {},
   "outputs": [],
   "source": []
  },
  {
   "cell_type": "code",
   "execution_count": null,
   "id": "bca6778c-ab84-4440-a180-422ca96a3b2c",
   "metadata": {},
   "outputs": [],
   "source": []
  },
  {
   "cell_type": "code",
   "execution_count": null,
   "id": "64974674-f5a7-4da7-a2b3-b88957ee5996",
   "metadata": {},
   "outputs": [],
   "source": []
  },
  {
   "cell_type": "code",
   "execution_count": null,
   "id": "c4d4123f-8aad-4eab-aa08-d92608f36269",
   "metadata": {},
   "outputs": [],
   "source": []
  },
  {
   "cell_type": "code",
   "execution_count": null,
   "id": "fcd9ecdc-6054-4b5e-9919-f8825ad3f20f",
   "metadata": {},
   "outputs": [],
   "source": []
  },
  {
   "cell_type": "code",
   "execution_count": null,
   "id": "107daab4-d238-4a36-9109-423d45129e58",
   "metadata": {},
   "outputs": [],
   "source": []
  },
  {
   "cell_type": "code",
   "execution_count": null,
   "id": "6d8299c2-0257-4aec-a701-da31380d5952",
   "metadata": {},
   "outputs": [],
   "source": []
  },
  {
   "cell_type": "code",
   "execution_count": null,
   "id": "00e0b35f-6a34-4990-a541-e0f62fefc30e",
   "metadata": {},
   "outputs": [],
   "source": []
  },
  {
   "cell_type": "code",
   "execution_count": null,
   "id": "a2b0d79b-a52f-4837-aa0c-46eb03267510",
   "metadata": {},
   "outputs": [],
   "source": []
  },
  {
   "cell_type": "code",
   "execution_count": null,
   "id": "c3803986-939e-4a5b-b35d-341d722b8c49",
   "metadata": {},
   "outputs": [],
   "source": []
  },
  {
   "cell_type": "code",
   "execution_count": null,
   "id": "f823ec7b-4a7d-45b9-a314-081a960488ff",
   "metadata": {},
   "outputs": [],
   "source": []
  },
  {
   "cell_type": "code",
   "execution_count": null,
   "id": "be1bc229-2393-487a-b302-fa9a0b186730",
   "metadata": {},
   "outputs": [],
   "source": []
  },
  {
   "cell_type": "code",
   "execution_count": null,
   "id": "73ed526a-9a2b-4c51-a378-81721a44e7f6",
   "metadata": {},
   "outputs": [],
   "source": []
  },
  {
   "cell_type": "code",
   "execution_count": null,
   "id": "65dd5d7d-0afd-4005-87ff-8c8e4b4e1aa3",
   "metadata": {},
   "outputs": [],
   "source": []
  },
  {
   "cell_type": "code",
   "execution_count": null,
   "id": "918fce2a-8dd9-442c-91c8-7f71e97cb8ec",
   "metadata": {},
   "outputs": [],
   "source": []
  },
  {
   "cell_type": "code",
   "execution_count": null,
   "id": "91b00bf3-7110-4c50-9193-ef2464cdb19e",
   "metadata": {},
   "outputs": [],
   "source": []
  },
  {
   "cell_type": "code",
   "execution_count": null,
   "id": "92b911c4-e2c9-4901-9e5b-af64d1b976f7",
   "metadata": {},
   "outputs": [],
   "source": []
  }
 ],
 "metadata": {
  "kernelspec": {
   "display_name": "Python 3 (ipykernel)",
   "language": "python",
   "name": "python3"
  },
  "language_info": {
   "codemirror_mode": {
    "name": "ipython",
    "version": 3
   },
   "file_extension": ".py",
   "mimetype": "text/x-python",
   "name": "python",
   "nbconvert_exporter": "python",
   "pygments_lexer": "ipython3",
   "version": "3.10.8"
  }
 },
 "nbformat": 4,
 "nbformat_minor": 5
}
